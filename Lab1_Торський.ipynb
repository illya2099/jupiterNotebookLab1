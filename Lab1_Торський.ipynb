{
 "cells": [
  {
   "cell_type": "markdown",
   "id": "1bdf468a",
   "metadata": {},
   "source": [
    "# Греція\n",
    "\n",
    "## Основна інформація\n",
    "\n",
    "<div style=\"border: 2px solid black; padding: 10px;\">\n",
    "  **Площа**: 131,957 км²  \n",
    "  **Населення**: 10.4 мільйона (2023)\n",
    "</div>\n",
    "\n",
    "### Державний устрій\n",
    "\n",
    "**Форма правління**: Парламентська республіка  \n",
    "**Президент**: Катерина Сакелларопулу  \n",
    "**Прем'єр-міністр**: Кіріакос Міцотакіс\n",
    "\n",
    "#### Видатні персоналії\n",
    "\n",
    "- **Сократ** - давньогрецький філософ.\n",
    "- **Арістотель** - вчений і філософ.\n",
    "- **Одіссеас Елітіс** - лауреат Нобелівської премії з літератури.\n",
    "\n",
    "##### Пам’ятки культури та природи\n",
    "\n",
    "### Афінський Акрополь\n",
    "\n",
    "**Афінський Акрополь** є символом класичної давньогрецької культури і включений до списку світової спадщини ЮНЕСКО.\n",
    "\n",
    "### Метеори\n",
    "\n",
    "Монастирський комплекс на вершинах скель.\n",
    "\n",
    "## Культура\n",
    "\n",
    "Грецька культура багата та різноманітна, від античних традицій до сучасного мистецтва та музики.\n",
    "\n",
    "### Музичні інструменти\n",
    "\n",
    "- Бу́зукі\n",
    "- Ліра\n",
    "- Баглама́\n",
    "\n",
    "### Грецька кухня\n",
    "\n",
    "- **Мусака**: запіканка з баклажанів і фаршу.\n",
    "- **Сувла́ки**: шашлики з м'яса.\n",
    "  - **Інгредієнти**:\n",
    "    - м'ясо\n",
    "    - спеції\n",
    "    - овочі\n",
    "- **Тзаци́кі**: йогуртовий соус з огірком і часником.\n",
    "\n",
    "## Таблиця\n",
    "\n",
    "| Категорія            | Опис                                    |\n",
    "|----------------------|-----------------------------------------|\n",
    "| **Античні пам'ятки** | Акрополь, Парфенон                      |\n",
    "| **Природні пам'ятки**| Метеори, гори Олімп                     |\n",
    "| **Культура**         | Міфи, література, театральне мистецтво  |\n",
    "\n",
    "## Грецький прапор\n",
    "\n",
    "![Флаг Греції](https://upload.wikimedia.org/wikipedia/commons/5/5c/Flag_of_Greece.svg)\n",
    "\n",
    "## Корисні посилання\n",
    "\n",
    "- [Греція на Вікіпедії](https://uk.wikipedia.org/wiki/Греція)\n",
    "- [Офіційний сайт Греції](https://www.visitgreece.gr/)\n",
    "\n",
    "## Додатковий елемент\n",
    "\n",
    "<p style=\"color:blue;\">Цей текст синього кольору.</p>"
   ]
  },
  {
   "cell_type": "code",
   "execution_count": 3,
   "id": "be0dabfd",
   "metadata": {},
   "outputs": [],
   "source": [
    "import random\n",
    "\n",
    "def is_prime(n):\n",
    "    if n <= 1:\n",
    "        return False\n",
    "    if n <= 3:\n",
    "        return True\n",
    "    if n % 2 == 0 or n % 3 == 0:\n",
    "        return False\n",
    "    i = 5\n",
    "    while i * i <= n:\n",
    "        if n % i == 0 or n % (i + 2) == 0:\n",
    "            return False\n",
    "        i += 6\n",
    "    return True\n",
    "\n",
    "def goldbach(n):\n",
    "    if n % 2 != 0 or n <= 2:\n",
    "        return None\n",
    "    for i in range(2, n):\n",
    "        if is_prime(i) and is_prime(n - i):\n",
    "            return i, n - i\n",
    "\n",
    "def task_1():\n",
    "    n = int(input(\"Введіть парне число: \"))\n",
    "    result = goldbach(n)\n",
    "    if result:\n",
    "        print(f\"Число {n} можна представити як {result[0]}+{result[1]}\")\n",
    "    else:\n",
    "        print(f\"Неможливо знайти пару простих чисел для числа {n}\")"
   ]
  },
  {
   "cell_type": "code",
   "execution_count": 4,
   "id": "5dfa2a88",
   "metadata": {},
   "outputs": [
    {
     "name": "stdout",
     "output_type": "stream",
     "text": [
      "Введіть парне число: 12\n",
      "Число 12 можна представити як 5+7\n"
     ]
    }
   ],
   "source": [
    "task_1()"
   ]
  },
  {
   "cell_type": "code",
   "execution_count": 5,
   "id": "70c2b33c",
   "metadata": {},
   "outputs": [
    {
     "name": "stdout",
     "output_type": "stream",
     "text": [
      "Введіть парне число: 13\n",
      "Неможливо знайти пару простих чисел для числа 13\n"
     ]
    }
   ],
   "source": [
    "task_1()"
   ]
  },
  {
   "cell_type": "code",
   "execution_count": 6,
   "id": "9710471a",
   "metadata": {},
   "outputs": [
    {
     "name": "stdout",
     "output_type": "stream",
     "text": [
      "Введіть парне число: 2\n",
      "Неможливо знайти пару простих чисел для числа 2\n"
     ]
    }
   ],
   "source": [
    "task_1()"
   ]
  },
  {
   "cell_type": "code",
   "execution_count": null,
   "id": "a02038cb",
   "metadata": {},
   "outputs": [],
   "source": []
  }
 ],
 "metadata": {
  "kernelspec": {
   "display_name": "Python 3 (ipykernel)",
   "language": "python",
   "name": "python3"
  },
  "language_info": {
   "codemirror_mode": {
    "name": "ipython",
    "version": 3
   },
   "file_extension": ".py",
   "mimetype": "text/x-python",
   "name": "python",
   "nbconvert_exporter": "python",
   "pygments_lexer": "ipython3",
   "version": "3.11.5"
  }
 },
 "nbformat": 4,
 "nbformat_minor": 5
}
